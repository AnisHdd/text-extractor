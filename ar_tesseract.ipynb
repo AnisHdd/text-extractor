{
 "cells": [
  {
   "cell_type": "markdown",
   "id": "326da92f-2479-442c-ad91-ddbc244d9f66",
   "metadata": {},
   "source": [
    "# Ojbectifs :\n",
    "* L'objectif de ce Notebook est d'extraire des mots d'un document (png, jpeg, jpg,...) et de les stocker dans une liste et créer un fichier txt associée. Ensuite de chercher un certain mot dans cette liste. \n",
    "* Les documents pdf doivent d'abord étre convertit \n",
    "* Pour specifier la langue il suffit de changer le paramétre lan dans la fonction extract_words. Exemple 'ara' pou l'arabe, 'fra' pour le francais ou 'ara + fra' pour les deux.\n",
    "* La liste des langues supportées est obtenue par par la commande print(pytesseract.get_languages(config='')) \n",
    "# Installation des modules :\n",
    "* pip3 install pytesseract\n",
    "* pip3 install opencv-python\n",
    "* Il faut aussi installer tesseract avec brew install tesseract-lang . Voir https://stackoverflow.com/questions/52891563/how-to-install-language-in-tesseract-ocr  pour l'installation de tesseract sur d'autre SE \n",
    "* La documentation de tesseract est disponible ici https://pypi.org/project/pytesseract/\n",
    "* brew install poppler \n",
    "* conda install pdf2image"
   ]
  },
  {
   "cell_type": "code",
   "execution_count": 1,
   "id": "a32d816e-c08c-48fe-b6f8-d882068abe21",
   "metadata": {},
   "outputs": [],
   "source": [
    "import pytesseract\n",
    "from pytesseract import Output\n",
    "from matplotlib import pyplot as plt\n",
    "import cv2\n",
    "import os \n",
    "from pdf2image import convert_from_path"
   ]
  },
  {
   "cell_type": "code",
   "execution_count": 2,
   "id": "7ba6a9fd-d041-48a1-b7bb-29579c47d5a4",
   "metadata": {},
   "outputs": [],
   "source": [
    "def extract_words(image,output, lang= 'ara'):\n",
    "    ''' Extracte words from file and get a list of words '''\n",
    "    img = cv2.imread(image)\n",
    "    text = pytesseract.image_to_string(img, lang=lang)  #Specify language to look after!\n",
    "    with open(output+'.txt', mode = 'w') as f:\n",
    "        f.write(text)\n",
    "    print('The file {} was succefully created'.format(output))\n",
    "    return text.split()\n",
    "\n",
    "def search_word(words,search):\n",
    "    found = None\n",
    "    for i, word in enumerate(words):\n",
    "         if word == search : \n",
    "                found=i\n",
    "    if found == None : print('The word searched {} is not found'.format(search))\n",
    "    else : print('The word searched {} is found in the position {}'.format(search,i)) \n",
    "    return(found)\n",
    "\n",
    "def pdf2jpg(file):\n",
    "    try:\n",
    "        pages = convert_from_path(file, 350)\n",
    "        i = 1\n",
    "        for page in pages:\n",
    "            image_name = str(os.path.splitext(file)[0])+\"_Page_\" + str(i) + \".jpg\"  \n",
    "            page.save(image_name, \"JPEG\")\n",
    "            i = i+1  \n",
    "        print('The file was succefully converted ')\n",
    "    except : print('There is a problem with conversion')\n",
    "    return image_name "
   ]
  },
  {
   "cell_type": "code",
   "execution_count": 3,
   "id": "8cf80180-256d-420f-8a61-49b84b238483",
   "metadata": {},
   "outputs": [
    {
     "name": "stdout",
     "output_type": "stream",
     "text": [
      "The file test1 was succefully created\n",
      "The word searched الجمهورية is found in the position 205\n"
     ]
    },
    {
     "data": {
      "text/plain": [
       "0"
      ]
     },
     "execution_count": 3,
     "metadata": {},
     "output_type": "execute_result"
    }
   ],
   "source": [
    "#Usage 1\n",
    "words = extract_words(\"test1.jpeg\",'test1')\n",
    "search = words[0]\n",
    "search_word(words,search)"
   ]
  },
  {
   "cell_type": "code",
   "execution_count": 4,
   "id": "55e016ac-654f-427f-ab5e-616d2fe9074b",
   "metadata": {},
   "outputs": [
    {
     "name": "stdout",
     "output_type": "stream",
     "text": [
      "The file test2 was succefully created\n",
      "The word searched HADDOUCHE is found in the position 146\n"
     ]
    },
    {
     "data": {
      "text/plain": [
       "79"
      ]
     },
     "execution_count": 4,
     "metadata": {},
     "output_type": "execute_result"
    }
   ],
   "source": [
    "#Usage 2\n",
    "words = extract_words(\"test2.png\",'test2',lang='ara+fra')\n",
    "search = 'HADDOUCHE'\n",
    "search_word(words,search)"
   ]
  },
  {
   "cell_type": "code",
   "execution_count": 5,
   "id": "b1b89462-0e42-4b3a-b13c-92f2ffdd80bf",
   "metadata": {},
   "outputs": [
    {
     "name": "stdout",
     "output_type": "stream",
     "text": [
      "The file was succefully converted \n",
      "The file test3 was succefully created\n"
     ]
    }
   ],
   "source": [
    "#Usage 3 \n",
    "words = extract_words(pdf2jpg('test3.pdf'),'test3',lang='fra')"
   ]
  },
  {
   "cell_type": "code",
   "execution_count": 6,
   "id": "3bfa658f-0b26-43ac-90d8-6d9aac0d2e84",
   "metadata": {},
   "outputs": [
    {
     "name": "stdout",
     "output_type": "stream",
     "text": [
      "The file was succefully converted \n"
     ]
    },
    {
     "data": {
      "text/plain": [
       "'test3_Page_1.jpg'"
      ]
     },
     "execution_count": 6,
     "metadata": {},
     "output_type": "execute_result"
    }
   ],
   "source": [
    "pdf2jpg('test3.pdf')"
   ]
  },
  {
   "cell_type": "code",
   "execution_count": null,
   "id": "0228dd2e-5823-4d13-8097-8b0906d6f988",
   "metadata": {},
   "outputs": [],
   "source": []
  }
 ],
 "metadata": {
  "kernelspec": {
   "display_name": "Python 3 (ipykernel)",
   "language": "python",
   "name": "python3"
  },
  "language_info": {
   "codemirror_mode": {
    "name": "ipython",
    "version": 3
   },
   "file_extension": ".py",
   "mimetype": "text/x-python",
   "name": "python",
   "nbconvert_exporter": "python",
   "pygments_lexer": "ipython3",
   "version": "3.8.12"
  }
 },
 "nbformat": 4,
 "nbformat_minor": 5
}
